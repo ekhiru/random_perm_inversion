{
  "cells": [
    {
      "cell_type": "code",
      "source": [
        "import itertools as it\n",
        "import numpy as np\n",
        "\n",
        "def kendallTau(A, B=None):\n",
        "    # if any partial is B\n",
        "    if B is None : B = list(range(len(A)))\n",
        "    n = len(A)\n",
        "    pairs = it.combinations(range(n), 2)\n",
        "    distance = 0\n",
        "    for x, y in pairs:\n",
        "        #if not A[x]!=A[x] and not A[y]!=A[y]:#OJO no se check B\n",
        "        a = A[x] - A[y]\n",
        "        try:\n",
        "            b = B[x] - B[y]# if discordant (different signs)\n",
        "        except:\n",
        "            print(\"ERROR kendallTau, check b\",A, B, x, y)\n",
        "        # print(b,a,b,A, B, x, y,a * b < 0)\n",
        "        if (a * b < 0):\n",
        "            distance += 1\n",
        "    return distance\n",
        "    \n",
        "## number of perms at each dist\n",
        "def num_perms_at_dist(n):\n",
        "    sk = np.zeros((n+1,int(n*(n-1)/2+1)))\n",
        "    for i in range(n+1):\n",
        "        sk[i,0] = 1\n",
        "    for i in range(1,1+n):\n",
        "        for j in range(1,int(i*(i-1)/2+1)):\n",
        "            if j - i >= 0 :\n",
        "                sk[i,j] = sk[i,j-1]+ sk[i-1,j] - sk[i-1,j-i]\n",
        "            else:\n",
        "                sk[i,j] = sk[i,j-1]+ sk[i-1,j]\n",
        "    return sk.astype(np.uint64)\n",
        "\n",
        "def v2ranking(v, n): ##len(v)==n, last item must be 0\n",
        "    # n = len(v)\n",
        "    rem = list(range(n))\n",
        "    rank = np.array([np.nan]*n)# np.zeros(n,dtype=np.int)\n",
        "    # print(v,rem,rank)\n",
        "    for i in range(len(v)):\n",
        "        rank[i] = rem[v[i]]\n",
        "        rem.pop(v[i])\n",
        "    return rank.astype(int)#[i+1 for i in permut];\n",
        "\n",
        "\n",
        "\n",
        "## random permutations at distance\n",
        "def random_perm_at_dist(n, dist, sk):\n",
        "    # param sk is the results of the function num_perms_at_dist(n)\n",
        "    i = 0\n",
        "    probs = np.zeros(n+1)\n",
        "    v = np.zeros(n,dtype=int)\n",
        "    while i<n and dist > 0 :\n",
        "        rest_max_dist = (n - i - 1 ) * ( n - i - 2 ) / 2\n",
        "        if rest_max_dist  >= dist:\n",
        "            probs[0] = sk[n-i-1,dist]\n",
        "        else:\n",
        "            probs[0] = 0\n",
        "        mi = min(dist + 1 , n - i )\n",
        "        for j in range(1,mi):\n",
        "            if rest_max_dist + j >= dist: probs[j] = sk[n-i-1, dist-j]\n",
        "            else: probs[ j ] = 0\n",
        "        v[i] = np.random.choice(mi,1,p=probs[:mi]/probs[:mi].sum())\n",
        "        dist -= v[i]\n",
        "        i += 1\n",
        "    return v2ranking(v,n)\n",
        "\n",
        "\n",
        "\n",
        "\n",
        "\n",
        "\n",
        "\n",
        "\n",
        "\n",
        "\n",
        "\n",
        "# end\n"
      ],
      "outputs": [],
      "execution_count": 87,
      "metadata": {
        "collapsed": false,
        "jupyter": {
          "source_hidden": false,
          "outputs_hidden": false
        },
        "nteract": {
          "transient": {
            "deleting": false
          }
        },
        "execution": {
          "iopub.status.busy": "2020-04-06T13:50:26.475Z",
          "iopub.execute_input": "2020-04-06T13:50:26.477Z",
          "iopub.status.idle": "2020-04-06T13:50:26.479Z",
          "shell.execute_reply": "2020-04-06T13:50:26.481Z"
        }
      }
    },
    {
      "cell_type": "markdown",
      "source": [
        "we have a permutation $s$ and we want a permutation $X$ at distance $d$ from $s$, i.e., $d(s,X)= d$"
      ],
      "metadata": {
        "nteract": {
          "transient": {
            "deleting": false
          }
        }
      }
    },
    {
      "cell_type": "code",
      "source": [
        "n = 8\n",
        "d = 4\n",
        "sk = num_perms_at_dist(n) #auxiliar function\n",
        "s = np.random.permutation(n) \n",
        "\n",
        "#first, we generate a permutation pi, such that d(pi,e)=d\n",
        "pi = random_perm_at_dist(n, d, sk)\n",
        "composition = pi[s] #now we compose it with s, because\n",
        "#d(pi,e)=d => d(pi[s],e[s])=d =>  d(pi[s],s)=d =>   X = pi[s] \n",
        "kendallTau(pi), kendallTau(s, composition)"
      ],
      "outputs": [
        {
          "output_type": "execute_result",
          "execution_count": 88,
          "data": {
            "text/plain": [
              "(4, 4)"
            ]
          },
          "metadata": {}
        }
      ],
      "execution_count": 88,
      "metadata": {
        "collapsed": false,
        "jupyter": {
          "source_hidden": false,
          "outputs_hidden": false
        },
        "nteract": {
          "transient": {
            "deleting": false
          }
        },
        "execution": {
          "iopub.status.busy": "2020-04-06T13:50:29.004Z",
          "iopub.execute_input": "2020-04-06T13:50:29.006Z",
          "iopub.status.idle": "2020-04-06T13:50:29.011Z",
          "shell.execute_reply": "2020-04-06T13:50:29.016Z"
        }
      }
    },
    {
      "cell_type": "code",
      "source": [],
      "outputs": [],
      "execution_count": null,
      "metadata": {
        "collapsed": false,
        "jupyter": {
          "source_hidden": false,
          "outputs_hidden": false
        },
        "nteract": {
          "transient": {
            "deleting": false
          }
        }
      }
    }
  ],
  "metadata": {
    "kernel_info": {
      "name": "python3"
    },
    "language_info": {
      "name": "python",
      "version": "3.7.5",
      "mimetype": "text/x-python",
      "codemirror_mode": {
        "name": "ipython",
        "version": 3
      },
      "pygments_lexer": "ipython3",
      "nbconvert_exporter": "python",
      "file_extension": ".py"
    },
    "kernelspec": {
      "argv": [
        "/usr/local/opt/python/bin/python3.7",
        "-m",
        "ipykernel_launcher",
        "-f",
        "{connection_file}"
      ],
      "display_name": "Python 3",
      "language": "python",
      "name": "python3"
    },
    "nteract": {
      "version": "0.22.0"
    }
  },
  "nbformat": 4,
  "nbformat_minor": 0
}